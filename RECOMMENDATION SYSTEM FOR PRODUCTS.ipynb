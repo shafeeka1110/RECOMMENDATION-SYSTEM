{
 "cells": [
  {
   "cell_type": "code",
   "execution_count": 1,
   "id": "f2108083",
   "metadata": {},
   "outputs": [],
   "source": [
    "import numpy as np\n",
    "import pandas as pd\n",
    "import nltk"
   ]
  },
  {
   "cell_type": "code",
   "execution_count": 2,
   "id": "feca5620",
   "metadata": {},
   "outputs": [
    {
     "name": "stderr",
     "output_type": "stream",
     "text": [
      "[nltk_data] Downloading package punkt to C:\\Users\\Mohammed\n",
      "[nltk_data]     Arif\\AppData\\Roaming\\nltk_data...\n",
      "[nltk_data]   Package punkt is already up-to-date!\n"
     ]
    },
    {
     "data": {
      "text/plain": [
       "True"
      ]
     },
     "execution_count": 2,
     "metadata": {},
     "output_type": "execute_result"
    }
   ],
   "source": [
    "\n",
    "nltk.download('punkt')\n"
   ]
  },
  {
   "cell_type": "code",
   "execution_count": 3,
   "id": "737c7af7",
   "metadata": {},
   "outputs": [
    {
     "data": {
      "text/html": [
       "<div>\n",
       "<style scoped>\n",
       "    .dataframe tbody tr th:only-of-type {\n",
       "        vertical-align: middle;\n",
       "    }\n",
       "\n",
       "    .dataframe tbody tr th {\n",
       "        vertical-align: top;\n",
       "    }\n",
       "\n",
       "    .dataframe thead th {\n",
       "        text-align: right;\n",
       "    }\n",
       "</style>\n",
       "<table border=\"1\" class=\"dataframe\">\n",
       "  <thead>\n",
       "    <tr style=\"text-align: right;\">\n",
       "      <th></th>\n",
       "      <th>id</th>\n",
       "      <th>Title</th>\n",
       "      <th>Description</th>\n",
       "      <th>Category</th>\n",
       "    </tr>\n",
       "  </thead>\n",
       "  <tbody>\n",
       "    <tr>\n",
       "      <th>0</th>\n",
       "      <td>1</td>\n",
       "      <td>Swissmar Capstore Select Storage Rack for 18-...</td>\n",
       "      <td>Swissmar's capstore select 18 storage unit kee...</td>\n",
       "      <td>Home &amp; Kitchen Kitchen &amp; Dining Kitchen Utens...</td>\n",
       "    </tr>\n",
       "    <tr>\n",
       "      <th>1</th>\n",
       "      <td>2</td>\n",
       "      <td>Gemini200 Delta CV-880 Gold Crown Livery Airc...</td>\n",
       "      <td>Welcome to the exciting world of GeminiJets! O...</td>\n",
       "      <td>Toys &amp; Games Hobbies Models &amp; Model Kits Pre-...</td>\n",
       "    </tr>\n",
       "    <tr>\n",
       "      <th>2</th>\n",
       "      <td>5</td>\n",
       "      <td>Superior Threads 10501-2172 Magnifico Cream P...</td>\n",
       "      <td>For quilting and embroidery, this product is m...</td>\n",
       "      <td>Arts, Crafts &amp; Sewing Sewing Thread &amp; Floss S...</td>\n",
       "    </tr>\n",
       "    <tr>\n",
       "      <th>3</th>\n",
       "      <td>6</td>\n",
       "      <td>Fashion Angels Color Rox Hair Chox Kit</td>\n",
       "      <td>Experiment with the haute trend of hair chalki...</td>\n",
       "      <td>Beauty &amp; Personal Care Hair Care Hair Colorin...</td>\n",
       "    </tr>\n",
       "    <tr>\n",
       "      <th>4</th>\n",
       "      <td>8</td>\n",
       "      <td>Union Creative Giant Killing Figure 05: Daisu...</td>\n",
       "      <td>From Union Creative. Turn your display shelf i...</td>\n",
       "      <td>Toys &amp; Games › Action Figures &amp; Statues › Sta...</td>\n",
       "    </tr>\n",
       "    <tr>\n",
       "      <th>5</th>\n",
       "      <td>9</td>\n",
       "      <td>Tape Logic Shipping &amp; Handling Label, Legend\"...</td>\n",
       "      <td>Aviditi Tape Logic shipping label. Boldly disp...</td>\n",
       "      <td>Industrial &amp; Scientific › Packaging &amp; Shippin...</td>\n",
       "    </tr>\n",
       "    <tr>\n",
       "      <th>6</th>\n",
       "      <td>13</td>\n",
       "      <td>Shea Moisture Strengthen &amp; Restore Leave-In C...</td>\n",
       "      <td>SheaMoisture Jamaican Black Castor Oil Strengt...</td>\n",
       "      <td>Beauty &amp; Personal Care Hair Care Shampoo &amp; Co...</td>\n",
       "    </tr>\n",
       "    <tr>\n",
       "      <th>7</th>\n",
       "      <td>14</td>\n",
       "      <td>Frymaster 8262183 Fp28/36 Sink Drain Struct Kit</td>\n",
       "      <td>826-2183, KIT, FP28/36 SINK DRAIN. Frymaster G...</td>\n",
       "      <td>Appliances Parts &amp; Accessories Cooktop Parts ...</td>\n",
       "    </tr>\n",
       "    <tr>\n",
       "      <th>8</th>\n",
       "      <td>16</td>\n",
       "      <td>Rubie's Star Wars Classic Luke Skywalker Chil...</td>\n",
       "      <td>The Force is sure to be with young Skywalker i...</td>\n",
       "      <td>Toys &amp; Games › Dress Up &amp; Pretend Play › Cost...</td>\n",
       "    </tr>\n",
       "    <tr>\n",
       "      <th>9</th>\n",
       "      <td>18</td>\n",
       "      <td>Fifth Avenue Crystal Emerald Round Votive</td>\n",
       "      <td>Add a spark of contemporary charm and romantic...</td>\n",
       "      <td>Home &amp; Kitchen Home Décor Candles &amp; Holders C...</td>\n",
       "    </tr>\n",
       "  </tbody>\n",
       "</table>\n",
       "</div>"
      ],
      "text/plain": [
       "   id                                              Title  \\\n",
       "0   1   Swissmar Capstore Select Storage Rack for 18-...   \n",
       "1   2   Gemini200 Delta CV-880 Gold Crown Livery Airc...   \n",
       "2   5   Superior Threads 10501-2172 Magnifico Cream P...   \n",
       "3   6            Fashion Angels Color Rox Hair Chox Kit    \n",
       "4   8   Union Creative Giant Killing Figure 05: Daisu...   \n",
       "5   9   Tape Logic Shipping & Handling Label, Legend\"...   \n",
       "6  13   Shea Moisture Strengthen & Restore Leave-In C...   \n",
       "7  14   Frymaster 8262183 Fp28/36 Sink Drain Struct Kit    \n",
       "8  16   Rubie's Star Wars Classic Luke Skywalker Chil...   \n",
       "9  18         Fifth Avenue Crystal Emerald Round Votive    \n",
       "\n",
       "                                         Description  \\\n",
       "0  Swissmar's capstore select 18 storage unit kee...   \n",
       "1  Welcome to the exciting world of GeminiJets! O...   \n",
       "2  For quilting and embroidery, this product is m...   \n",
       "3  Experiment with the haute trend of hair chalki...   \n",
       "4  From Union Creative. Turn your display shelf i...   \n",
       "5  Aviditi Tape Logic shipping label. Boldly disp...   \n",
       "6  SheaMoisture Jamaican Black Castor Oil Strengt...   \n",
       "7  826-2183, KIT, FP28/36 SINK DRAIN. Frymaster G...   \n",
       "8  The Force is sure to be with young Skywalker i...   \n",
       "9  Add a spark of contemporary charm and romantic...   \n",
       "\n",
       "                                            Category  \n",
       "0   Home & Kitchen Kitchen & Dining Kitchen Utens...  \n",
       "1   Toys & Games Hobbies Models & Model Kits Pre-...  \n",
       "2   Arts, Crafts & Sewing Sewing Thread & Floss S...  \n",
       "3   Beauty & Personal Care Hair Care Hair Colorin...  \n",
       "4   Toys & Games › Action Figures & Statues › Sta...  \n",
       "5   Industrial & Scientific › Packaging & Shippin...  \n",
       "6   Beauty & Personal Care Hair Care Shampoo & Co...  \n",
       "7   Appliances Parts & Accessories Cooktop Parts ...  \n",
       "8   Toys & Games › Dress Up & Pretend Play › Cost...  \n",
       "9   Home & Kitchen Home Décor Candles & Holders C...  "
      ]
     },
     "execution_count": 3,
     "metadata": {},
     "output_type": "execute_result"
    }
   ],
   "source": [
    "amazon=pd.read_csv(r'C:\\Users\\Mohammed Arif\\Downloads\\amazon_product.csv')\n",
    "amazon.head(10)"
   ]
  },
  {
   "cell_type": "code",
   "execution_count": 4,
   "id": "9285099a",
   "metadata": {},
   "outputs": [
    {
     "data": {
      "text/plain": [
       "Index(['id', 'Title', 'Description', 'Category'], dtype='object')"
      ]
     },
     "execution_count": 4,
     "metadata": {},
     "output_type": "execute_result"
    }
   ],
   "source": [
    "amazon.columns"
   ]
  },
  {
   "cell_type": "code",
   "execution_count": 5,
   "id": "d1ebd9a2",
   "metadata": {},
   "outputs": [
    {
     "data": {
      "text/plain": [
       "554"
      ]
     },
     "execution_count": 5,
     "metadata": {},
     "output_type": "execute_result"
    }
   ],
   "source": [
    "amazon['Category'].nunique()"
   ]
  },
  {
   "cell_type": "code",
   "execution_count": 6,
   "id": "7828dda0",
   "metadata": {},
   "outputs": [
    {
     "data": {
      "text/html": [
       "<div>\n",
       "<style scoped>\n",
       "    .dataframe tbody tr th:only-of-type {\n",
       "        vertical-align: middle;\n",
       "    }\n",
       "\n",
       "    .dataframe tbody tr th {\n",
       "        vertical-align: top;\n",
       "    }\n",
       "\n",
       "    .dataframe thead th {\n",
       "        text-align: right;\n",
       "    }\n",
       "</style>\n",
       "<table border=\"1\" class=\"dataframe\">\n",
       "  <thead>\n",
       "    <tr style=\"text-align: right;\">\n",
       "      <th></th>\n",
       "      <th>Title</th>\n",
       "      <th>Description</th>\n",
       "      <th>Category</th>\n",
       "    </tr>\n",
       "  </thead>\n",
       "  <tbody>\n",
       "    <tr>\n",
       "      <th>0</th>\n",
       "      <td>Swissmar Capstore Select Storage Rack for 18-...</td>\n",
       "      <td>Swissmar's capstore select 18 storage unit kee...</td>\n",
       "      <td>Home &amp; Kitchen Kitchen &amp; Dining Kitchen Utens...</td>\n",
       "    </tr>\n",
       "    <tr>\n",
       "      <th>1</th>\n",
       "      <td>Gemini200 Delta CV-880 Gold Crown Livery Airc...</td>\n",
       "      <td>Welcome to the exciting world of GeminiJets! O...</td>\n",
       "      <td>Toys &amp; Games Hobbies Models &amp; Model Kits Pre-...</td>\n",
       "    </tr>\n",
       "    <tr>\n",
       "      <th>2</th>\n",
       "      <td>Superior Threads 10501-2172 Magnifico Cream P...</td>\n",
       "      <td>For quilting and embroidery, this product is m...</td>\n",
       "      <td>Arts, Crafts &amp; Sewing Sewing Thread &amp; Floss S...</td>\n",
       "    </tr>\n",
       "    <tr>\n",
       "      <th>3</th>\n",
       "      <td>Fashion Angels Color Rox Hair Chox Kit</td>\n",
       "      <td>Experiment with the haute trend of hair chalki...</td>\n",
       "      <td>Beauty &amp; Personal Care Hair Care Hair Colorin...</td>\n",
       "    </tr>\n",
       "    <tr>\n",
       "      <th>4</th>\n",
       "      <td>Union Creative Giant Killing Figure 05: Daisu...</td>\n",
       "      <td>From Union Creative. Turn your display shelf i...</td>\n",
       "      <td>Toys &amp; Games › Action Figures &amp; Statues › Sta...</td>\n",
       "    </tr>\n",
       "  </tbody>\n",
       "</table>\n",
       "</div>"
      ],
      "text/plain": [
       "                                               Title  \\\n",
       "0   Swissmar Capstore Select Storage Rack for 18-...   \n",
       "1   Gemini200 Delta CV-880 Gold Crown Livery Airc...   \n",
       "2   Superior Threads 10501-2172 Magnifico Cream P...   \n",
       "3            Fashion Angels Color Rox Hair Chox Kit    \n",
       "4   Union Creative Giant Killing Figure 05: Daisu...   \n",
       "\n",
       "                                         Description  \\\n",
       "0  Swissmar's capstore select 18 storage unit kee...   \n",
       "1  Welcome to the exciting world of GeminiJets! O...   \n",
       "2  For quilting and embroidery, this product is m...   \n",
       "3  Experiment with the haute trend of hair chalki...   \n",
       "4  From Union Creative. Turn your display shelf i...   \n",
       "\n",
       "                                            Category  \n",
       "0   Home & Kitchen Kitchen & Dining Kitchen Utens...  \n",
       "1   Toys & Games Hobbies Models & Model Kits Pre-...  \n",
       "2   Arts, Crafts & Sewing Sewing Thread & Floss S...  \n",
       "3   Beauty & Personal Care Hair Care Hair Colorin...  \n",
       "4   Toys & Games › Action Figures & Statues › Sta...  "
      ]
     },
     "execution_count": 6,
     "metadata": {},
     "output_type": "execute_result"
    }
   ],
   "source": [
    "amazon.drop(\"id\",axis=1,inplace=True)\n",
    "amazon.head()"
   ]
  },
  {
   "cell_type": "code",
   "execution_count": 7,
   "id": "cfe05bde",
   "metadata": {},
   "outputs": [
    {
     "name": "stdout",
     "output_type": "stream",
     "text": [
      "<class 'pandas.core.frame.DataFrame'>\n",
      "RangeIndex: 668 entries, 0 to 667\n",
      "Data columns (total 3 columns):\n",
      " #   Column       Non-Null Count  Dtype \n",
      "---  ------       --------------  ----- \n",
      " 0   Title        668 non-null    object\n",
      " 1   Description  668 non-null    object\n",
      " 2   Category     668 non-null    object\n",
      "dtypes: object(3)\n",
      "memory usage: 15.8+ KB\n"
     ]
    }
   ],
   "source": [
    "amazon.info()"
   ]
  },
  {
   "cell_type": "code",
   "execution_count": 8,
   "id": "08c759e7",
   "metadata": {},
   "outputs": [
    {
     "data": {
      "text/plain": [
       "Title          0\n",
       "Description    0\n",
       "Category       0\n",
       "dtype: int64"
      ]
     },
     "execution_count": 8,
     "metadata": {},
     "output_type": "execute_result"
    }
   ],
   "source": [
    "amazon.isnull().sum()"
   ]
  },
  {
   "cell_type": "code",
   "execution_count": 9,
   "id": "318ddbb8",
   "metadata": {},
   "outputs": [
    {
     "data": {
      "text/plain": [
       "['hi', 'guys', 'there']"
      ]
     },
     "execution_count": 9,
     "metadata": {},
     "output_type": "execute_result"
    }
   ],
   "source": [
    "nltk.word_tokenize(\"hi guys there\")"
   ]
  },
  {
   "cell_type": "code",
   "execution_count": 10,
   "id": "1275d536",
   "metadata": {},
   "outputs": [
    {
     "data": {
      "text/plain": [
       "['hi guys there.', 'what are you doing.', 'come here']"
      ]
     },
     "execution_count": 10,
     "metadata": {},
     "output_type": "execute_result"
    }
   ],
   "source": [
    "nltk.sent_tokenize(\"hi guys there. what are you doing. come here\")"
   ]
  },
  {
   "cell_type": "code",
   "execution_count": 11,
   "id": "32fec57e",
   "metadata": {},
   "outputs": [],
   "source": [
    "from nltk.stem.snowball import SnowballStemmer\n",
    "stemmer=SnowballStemmer(\"english\")\n",
    "\n",
    "def tokenize_stem(text):\n",
    "    tokens=nltk.word_tokenize(text.lower())\n",
    "    stem=[stemmer.stem(w) for w in tokens]\n",
    "    return \" \".join(stem)"
   ]
  },
  {
   "cell_type": "code",
   "execution_count": 12,
   "id": "00a2de1f",
   "metadata": {},
   "outputs": [],
   "source": [
    "amazon['stemmed_tokens']=amazon.apply(lambda row: tokenize_stem(row['Title']+ ' ' +row['Description']),axis=1)"
   ]
  },
  {
   "cell_type": "code",
   "execution_count": 13,
   "id": "c34573fe",
   "metadata": {},
   "outputs": [
    {
     "data": {
      "text/html": [
       "<div>\n",
       "<style scoped>\n",
       "    .dataframe tbody tr th:only-of-type {\n",
       "        vertical-align: middle;\n",
       "    }\n",
       "\n",
       "    .dataframe tbody tr th {\n",
       "        vertical-align: top;\n",
       "    }\n",
       "\n",
       "    .dataframe thead th {\n",
       "        text-align: right;\n",
       "    }\n",
       "</style>\n",
       "<table border=\"1\" class=\"dataframe\">\n",
       "  <thead>\n",
       "    <tr style=\"text-align: right;\">\n",
       "      <th></th>\n",
       "      <th>Title</th>\n",
       "      <th>Description</th>\n",
       "      <th>Category</th>\n",
       "      <th>stemmed_tokens</th>\n",
       "    </tr>\n",
       "  </thead>\n",
       "  <tbody>\n",
       "    <tr>\n",
       "      <th>0</th>\n",
       "      <td>Swissmar Capstore Select Storage Rack for 18-...</td>\n",
       "      <td>Swissmar's capstore select 18 storage unit kee...</td>\n",
       "      <td>Home &amp; Kitchen Kitchen &amp; Dining Kitchen Utens...</td>\n",
       "      <td>swissmar capstor select storag rack for 18-pac...</td>\n",
       "    </tr>\n",
       "    <tr>\n",
       "      <th>1</th>\n",
       "      <td>Gemini200 Delta CV-880 Gold Crown Livery Airc...</td>\n",
       "      <td>Welcome to the exciting world of GeminiJets! O...</td>\n",
       "      <td>Toys &amp; Games Hobbies Models &amp; Model Kits Pre-...</td>\n",
       "      <td>gemini200 delta cv-880 gold crown liveri aircr...</td>\n",
       "    </tr>\n",
       "    <tr>\n",
       "      <th>2</th>\n",
       "      <td>Superior Threads 10501-2172 Magnifico Cream P...</td>\n",
       "      <td>For quilting and embroidery, this product is m...</td>\n",
       "      <td>Arts, Crafts &amp; Sewing Sewing Thread &amp; Floss S...</td>\n",
       "      <td>superior thread 10501-2172 magnifico cream puf...</td>\n",
       "    </tr>\n",
       "    <tr>\n",
       "      <th>3</th>\n",
       "      <td>Fashion Angels Color Rox Hair Chox Kit</td>\n",
       "      <td>Experiment with the haute trend of hair chalki...</td>\n",
       "      <td>Beauty &amp; Personal Care Hair Care Hair Colorin...</td>\n",
       "      <td>fashion angel color rox hair chox kit experi w...</td>\n",
       "    </tr>\n",
       "    <tr>\n",
       "      <th>4</th>\n",
       "      <td>Union Creative Giant Killing Figure 05: Daisu...</td>\n",
       "      <td>From Union Creative. Turn your display shelf i...</td>\n",
       "      <td>Toys &amp; Games › Action Figures &amp; Statues › Sta...</td>\n",
       "      <td>union creativ giant kill figur 05 : daisuk tsu...</td>\n",
       "    </tr>\n",
       "  </tbody>\n",
       "</table>\n",
       "</div>"
      ],
      "text/plain": [
       "                                               Title  \\\n",
       "0   Swissmar Capstore Select Storage Rack for 18-...   \n",
       "1   Gemini200 Delta CV-880 Gold Crown Livery Airc...   \n",
       "2   Superior Threads 10501-2172 Magnifico Cream P...   \n",
       "3            Fashion Angels Color Rox Hair Chox Kit    \n",
       "4   Union Creative Giant Killing Figure 05: Daisu...   \n",
       "\n",
       "                                         Description  \\\n",
       "0  Swissmar's capstore select 18 storage unit kee...   \n",
       "1  Welcome to the exciting world of GeminiJets! O...   \n",
       "2  For quilting and embroidery, this product is m...   \n",
       "3  Experiment with the haute trend of hair chalki...   \n",
       "4  From Union Creative. Turn your display shelf i...   \n",
       "\n",
       "                                            Category  \\\n",
       "0   Home & Kitchen Kitchen & Dining Kitchen Utens...   \n",
       "1   Toys & Games Hobbies Models & Model Kits Pre-...   \n",
       "2   Arts, Crafts & Sewing Sewing Thread & Floss S...   \n",
       "3   Beauty & Personal Care Hair Care Hair Colorin...   \n",
       "4   Toys & Games › Action Figures & Statues › Sta...   \n",
       "\n",
       "                                      stemmed_tokens  \n",
       "0  swissmar capstor select storag rack for 18-pac...  \n",
       "1  gemini200 delta cv-880 gold crown liveri aircr...  \n",
       "2  superior thread 10501-2172 magnifico cream puf...  \n",
       "3  fashion angel color rox hair chox kit experi w...  \n",
       "4  union creativ giant kill figur 05 : daisuk tsu...  "
      ]
     },
     "execution_count": 13,
     "metadata": {},
     "output_type": "execute_result"
    }
   ],
   "source": [
    "amazon.head(5)"
   ]
  },
  {
   "cell_type": "code",
   "execution_count": 14,
   "id": "d2cb133d",
   "metadata": {},
   "outputs": [
    {
     "data": {
      "text/plain": [
       "0      swissmar capstor select storag rack for 18-pac...\n",
       "1      gemini200 delta cv-880 gold crown liveri aircr...\n",
       "2      superior thread 10501-2172 magnifico cream puf...\n",
       "3      fashion angel color rox hair chox kit experi w...\n",
       "4      union creativ giant kill figur 05 : daisuk tsu...\n",
       "                             ...                        \n",
       "663    rosemeri ( rosemari ) - box of six 20 stick he...\n",
       "664    interdesign linus stack organ bin , extra larg...\n",
       "665    gourmet rubber stamp diagon stripe stencil , 6...\n",
       "666    spenco rx arch cushion full length comfort sup...\n",
       "667                                  car kit kit for car\n",
       "Name: stemmed_tokens, Length: 668, dtype: object"
      ]
     },
     "execution_count": 14,
     "metadata": {},
     "output_type": "execute_result"
    }
   ],
   "source": [
    "amazon['stemmed_tokens']"
   ]
  },
  {
   "cell_type": "code",
   "execution_count": 15,
   "id": "53565f1a",
   "metadata": {},
   "outputs": [],
   "source": [
    "from sklearn.feature_extraction.text import TfidfVectorizer\n",
    "from sklearn.metrics.pairwise import cosine_similarity\n",
    "\n",
    "tfidvectorizer=TfidfVectorizer(tokenizer=tokenize_stem)\n",
    "\n",
    "def cosine_sim(txt1,txt2):\n",
    "    tfid_matrix=tfidvectorizer.fit_transform([txt1,txt2])\n",
    "    return cosine_similarity(tfid_matrix)[0][1]"
   ]
  },
  {
   "cell_type": "code",
   "execution_count": 16,
   "id": "b628778d",
   "metadata": {},
   "outputs": [],
   "source": [
    "def search_product(query):\n",
    "    stemmed_query=tokenize_stem(query)\n",
    "    amazon['similarity']=amazon['stemmed_tokens'].apply(lambda x:cosine_sim(stemmed_query,x))\n",
    "    res=amazon.sort_values(by=['similarity'],ascending=False).head(10)[['Title','Description','Category']]\n",
    "    return res"
   ]
  },
  {
   "cell_type": "code",
   "execution_count": 17,
   "id": "f49ea2ad",
   "metadata": {},
   "outputs": [
    {
     "name": "stderr",
     "output_type": "stream",
     "text": [
      "C:\\Users\\Mohammed Arif\\anaconda3\\lib\\site-packages\\sklearn\\feature_extraction\\text.py:525: UserWarning: The parameter 'token_pattern' will not be used since 'tokenizer' is not None'\n",
      "  warnings.warn(\n"
     ]
    },
    {
     "data": {
      "text/html": [
       "<div>\n",
       "<style scoped>\n",
       "    .dataframe tbody tr th:only-of-type {\n",
       "        vertical-align: middle;\n",
       "    }\n",
       "\n",
       "    .dataframe tbody tr th {\n",
       "        vertical-align: top;\n",
       "    }\n",
       "\n",
       "    .dataframe thead th {\n",
       "        text-align: right;\n",
       "    }\n",
       "</style>\n",
       "<table border=\"1\" class=\"dataframe\">\n",
       "  <thead>\n",
       "    <tr style=\"text-align: right;\">\n",
       "      <th></th>\n",
       "      <th>Title</th>\n",
       "      <th>Description</th>\n",
       "      <th>Category</th>\n",
       "    </tr>\n",
       "  </thead>\n",
       "  <tbody>\n",
       "    <tr>\n",
       "      <th>10</th>\n",
       "      <td>PURELL ES8 Professional HEALTHY SOAP Foam Ref...</td>\n",
       "      <td>1200 ml refill for Purell ES8 touch-free soap ...</td>\n",
       "      <td>Industrial &amp; Scientific › Janitorial &amp; Sanita...</td>\n",
       "    </tr>\n",
       "    <tr>\n",
       "      <th>541</th>\n",
       "      <td>Remington SP290 for F4790 Shaver (2-Pack)</td>\n",
       "      <td>Technical Features for Remington SP290-2 The R...</td>\n",
       "      <td>Beauty &amp; Personal Care › Shave &amp; Hair Removal...</td>\n",
       "    </tr>\n",
       "    <tr>\n",
       "      <th>176</th>\n",
       "      <td>Angel Soft Professional Series Premium 2-Ply ...</td>\n",
       "      <td>Angel Soft Professional Series offers a qualit...</td>\n",
       "      <td>Health &amp; Household Household Supplies Paper &amp;...</td>\n",
       "    </tr>\n",
       "    <tr>\n",
       "      <th>160</th>\n",
       "      <td>Dixie 8.5\"Medium-Weight Paper Plates by GP PR...</td>\n",
       "      <td>The WiseSize product offering provides a packa...</td>\n",
       "      <td>Health &amp; Household › Household Supplies › Pap...</td>\n",
       "    </tr>\n",
       "    <tr>\n",
       "      <th>206</th>\n",
       "      <td>Filofax 2018 Personal/Compact Academic Week t...</td>\n",
       "      <td>Over the years, the Filofax organizer has evol...</td>\n",
       "      <td>Office Products › Office &amp; School Supplies › ...</td>\n",
       "    </tr>\n",
       "    <tr>\n",
       "      <th>220</th>\n",
       "      <td>Serta iComfort Premium Infant Sleeper Replace...</td>\n",
       "      <td>Replacement cover for the Serta’s icomfort Pre...</td>\n",
       "      <td>Baby Products › Nursery › Bedding › Baby Bedd...</td>\n",
       "    </tr>\n",
       "    <tr>\n",
       "      <th>492</th>\n",
       "      <td>Seventh Generation Baby Overnight Diapers, Fr...</td>\n",
       "      <td>Everyone could use a little sleep. Seventh Gen...</td>\n",
       "      <td>Baby Products Diapering Disposable Diapers</td>\n",
       "    </tr>\n",
       "    <tr>\n",
       "      <th>209</th>\n",
       "      <td>ALEX Toys Artist Studio Ultimate Easel Access...</td>\n",
       "      <td>ALEX Toys Artist Studio Ultimate Easel Accesso...</td>\n",
       "      <td>Toys &amp; Games Arts &amp; Crafts</td>\n",
       "    </tr>\n",
       "    <tr>\n",
       "      <th>523</th>\n",
       "      <td>School Smart 2-Pocket Folders, Green, Pack of...</td>\n",
       "      <td>Compile and file with ease with School Smart's...</td>\n",
       "      <td>Office Products Office &amp; School Supplies Fili...</td>\n",
       "    </tr>\n",
       "    <tr>\n",
       "      <th>390</th>\n",
       "      <td>Elmer's Foam Board, 20 x 28 Inches, 3/16 Inch...</td>\n",
       "      <td>Elmer's Foam Board makes it easier to create e...</td>\n",
       "      <td>Office Products Office &amp; School Supplies Pres...</td>\n",
       "    </tr>\n",
       "  </tbody>\n",
       "</table>\n",
       "</div>"
      ],
      "text/plain": [
       "                                                 Title  \\\n",
       "10    PURELL ES8 Professional HEALTHY SOAP Foam Ref...   \n",
       "541         Remington SP290 for F4790 Shaver (2-Pack)    \n",
       "176   Angel Soft Professional Series Premium 2-Ply ...   \n",
       "160   Dixie 8.5\"Medium-Weight Paper Plates by GP PR...   \n",
       "206   Filofax 2018 Personal/Compact Academic Week t...   \n",
       "220   Serta iComfort Premium Infant Sleeper Replace...   \n",
       "492   Seventh Generation Baby Overnight Diapers, Fr...   \n",
       "209   ALEX Toys Artist Studio Ultimate Easel Access...   \n",
       "523   School Smart 2-Pocket Folders, Green, Pack of...   \n",
       "390   Elmer's Foam Board, 20 x 28 Inches, 3/16 Inch...   \n",
       "\n",
       "                                           Description  \\\n",
       "10   1200 ml refill for Purell ES8 touch-free soap ...   \n",
       "541  Technical Features for Remington SP290-2 The R...   \n",
       "176  Angel Soft Professional Series offers a qualit...   \n",
       "160  The WiseSize product offering provides a packa...   \n",
       "206  Over the years, the Filofax organizer has evol...   \n",
       "220  Replacement cover for the Serta’s icomfort Pre...   \n",
       "492  Everyone could use a little sleep. Seventh Gen...   \n",
       "209  ALEX Toys Artist Studio Ultimate Easel Accesso...   \n",
       "523  Compile and file with ease with School Smart's...   \n",
       "390  Elmer's Foam Board makes it easier to create e...   \n",
       "\n",
       "                                              Category  \n",
       "10    Industrial & Scientific › Janitorial & Sanita...  \n",
       "541   Beauty & Personal Care › Shave & Hair Removal...  \n",
       "176   Health & Household Household Supplies Paper &...  \n",
       "160   Health & Household › Household Supplies › Pap...  \n",
       "206   Office Products › Office & School Supplies › ...  \n",
       "220   Baby Products › Nursery › Bedding › Baby Bedd...  \n",
       "492        Baby Products Diapering Disposable Diapers   \n",
       "209                        Toys & Games Arts & Crafts   \n",
       "523   Office Products Office & School Supplies Fili...  \n",
       "390   Office Products Office & School Supplies Pres...  "
      ]
     },
     "execution_count": 17,
     "metadata": {},
     "output_type": "execute_result"
    }
   ],
   "source": [
    "search_product(' PURELL ES8 Professional HEALTHY SOAP Foam Refill, Fresh Scent Fragrance, 1200 mL Soap Refill for PURELL ES8 Touch-Free Dispenser (Pack of 2) - 7777-02 ')\n"
   ]
  },
  {
   "cell_type": "code",
   "execution_count": 18,
   "id": "5bb2053f",
   "metadata": {},
   "outputs": [
    {
     "data": {
      "text/plain": [
       "' PURELL ES8 Professional HEALTHY SOAP Foam Refill, Fresh Scent Fragrance, 1200 mL Soap Refill for PURELL ES8 Touch-Free Dispenser (Pack of 2) - 7777-02 '"
      ]
     },
     "execution_count": 18,
     "metadata": {},
     "output_type": "execute_result"
    }
   ],
   "source": [
    "amazon['Title'][10]"
   ]
  },
  {
   "cell_type": "code",
   "execution_count": null,
   "id": "20c2da4a",
   "metadata": {},
   "outputs": [],
   "source": [
    "\n"
   ]
  },
  {
   "cell_type": "code",
   "execution_count": null,
   "id": "1e1879c2",
   "metadata": {},
   "outputs": [],
   "source": []
  }
 ],
 "metadata": {
  "kernelspec": {
   "display_name": "Python 3 (ipykernel)",
   "language": "python",
   "name": "python3"
  },
  "language_info": {
   "codemirror_mode": {
    "name": "ipython",
    "version": 3
   },
   "file_extension": ".py",
   "mimetype": "text/x-python",
   "name": "python",
   "nbconvert_exporter": "python",
   "pygments_lexer": "ipython3",
   "version": "3.12.3"
  }
 },
 "nbformat": 4,
 "nbformat_minor": 5
}
